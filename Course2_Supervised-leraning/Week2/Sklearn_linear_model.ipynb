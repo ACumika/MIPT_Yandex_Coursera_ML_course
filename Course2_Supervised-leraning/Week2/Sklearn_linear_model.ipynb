{
 "cells": [
  {
   "cell_type": "markdown",
   "id": "65c3311f-ef15-4d77-bf4c-4f946117c0d1",
   "metadata": {},
   "source": [
    "# Linear models\n",
    "\n",
    "- RidgeClassifier\n",
    "- SGDCClassifier\n",
    "- SGDRClassifier\n",
    "- LinearRegression\n",
    "- LogisticRegression\n",
    "- Lasso\n",
    "- etc\n",
    "\n",
    "# Классификатор\n",
    "\n",
    "## 1. Готовим датасет (берем из библиотеки и делим на трейн и тест)"
   ]
  },
  {
   "cell_type": "code",
   "execution_count": 2,
   "id": "cafe03c0-4b6c-4b6c-9233-e46ec8b5d2f1",
   "metadata": {},
   "outputs": [],
   "source": [
    "from matplotlib.colors import ListedColormap\n",
    "from sklearn import model_selection, datasets, linear_model, metrics\n",
    "\n",
    "import numpy as np"
   ]
  },
  {
   "cell_type": "code",
   "execution_count": 3,
   "id": "fd1abce6-9e45-4892-b315-23ee623ce989",
   "metadata": {},
   "outputs": [
    {
     "name": "stdout",
     "output_type": "stream",
     "text": [
      "Populating the interactive namespace from numpy and matplotlib\n"
     ]
    }
   ],
   "source": [
    "%pylab inline"
   ]
  },
  {
   "cell_type": "code",
   "execution_count": 74,
   "id": "8337b052-7807-4124-9875-d3f9f4e7bed7",
   "metadata": {},
   "outputs": [],
   "source": [
    "blobs = datasets.make_blobs(centers = 2, cluster_std = 5.5, random_state=1)"
   ]
  },
  {
   "cell_type": "code",
   "execution_count": 75,
   "id": "4e390e6a-c78f-42ab-b856-4895c34e6043",
   "metadata": {},
   "outputs": [
    {
     "data": {
      "text/plain": [
       "<matplotlib.collections.PathCollection at 0x7fb15c4c9220>"
      ]
     },
     "execution_count": 75,
     "metadata": {},
     "output_type": "execute_result"
    },
    {
     "data": {
      "image/png": "[encoded data removed]",
      "text/plain": [
       "<Figure size 576x360 with 1 Axes>"
      ]
     },
     "metadata": {
      "needs_background": "light"
     },
     "output_type": "display_data"
    }
   ],
   "source": [
    "colors = ListedColormap(['red', 'blue'])\n",
    "\n",
    "pylab.figure(figsize(8,5))\n",
    "x = list(map(lambda x: x[0], blobs[0]))\n",
    "y = list(map(lambda x: x[1], blobs[0]))\n",
    "pylab.scatter(x, y, c = blobs[1], cmap = colors)"
   ]
  },
  {
   "cell_type": "code",
   "execution_count": 76,
   "id": "b09219cf-8d1d-47dc-a9fc-52055638e274",
   "metadata": {},
   "outputs": [],
   "source": [
    "train_data, test_data, train_labels, test_labels = model_selection.train_test_split(blobs[0], blobs[1], test_size = 0.3,random_state = 1)"
   ]
  },
  {
   "cell_type": "markdown",
   "id": "a61e38b9-b607-4bd5-9aa3-153ce2b01840",
   "metadata": {
    "tags": []
   },
   "source": [
    "## 2. Модель\n",
    "\n",
    "создание обьекта классификатора - обучение классификатора - применение обученнго класификатора - оценка качества\n",
    "\n",
    "### RidgeClassifier"
   ]
  },
  {
   "cell_type": "code",
   "execution_count": 77,
   "id": "306617db-ab89-4899-a281-72d68c062d73",
   "metadata": {},
   "outputs": [],
   "source": [
    "ridge_classifier = linear_model.RidgeClassifier(random_state = 8) #создали"
   ]
  },
  {
   "cell_type": "code",
   "execution_count": 78,
   "id": "39a3e747-14ed-411a-b9f0-c18fc1eae656",
   "metadata": {},
   "outputs": [
    {
     "data": {
      "text/plain": [
       "RidgeClassifier(random_state=8)"
      ]
     },
     "execution_count": 78,
     "metadata": {},
     "output_type": "execute_result"
    }
   ],
   "source": [
    "ridge_classifier.fit(train_data, train_labels) #обучили"
   ]
  },
  {
   "cell_type": "code",
   "execution_count": 79,
   "id": "8d9c219a-a9b8-4e56-9491-9427a547e182",
   "metadata": {},
   "outputs": [],
   "source": [
    "ridge_predictions = ridge_classifier.predict(test_data) #использовали"
   ]
  },
  {
   "cell_type": "code",
   "execution_count": 80,
   "id": "d93c6df9-a2c5-4c74-80ad-ea70133a7288",
   "metadata": {},
   "outputs": [
    {
     "name": "stdout",
     "output_type": "stream",
     "text": [
      "[0 0 0 1 0 0 0 0 0 1 0 1 0 1 1 1 0 0 0 1 0 0 0 1 1 1 1 0 0 1]\n",
      "[0 0 0 1 0 1 0 0 0 1 0 1 0 1 1 1 1 0 1 1 1 0 0 1 1 1 1 0 0 1]\n"
     ]
    }
   ],
   "source": [
    "print(test_labels)\n",
    "print(ridge_predictions)"
   ]
  },
  {
   "cell_type": "code",
   "execution_count": 81,
   "id": "5eaac7a8-a244-4210-a485-db04de8a995b",
   "metadata": {},
   "outputs": [
    {
     "data": {
      "text/plain": [
       "0.8666666666666667"
      ]
     },
     "execution_count": 81,
     "metadata": {},
     "output_type": "execute_result"
    }
   ],
   "source": [
    "metrics.accuracy_score(test_labels, ridge_predictions) #оценили качечтво"
   ]
  },
  {
   "cell_type": "code",
   "execution_count": 82,
   "id": "548127c2-71af-4edc-88e2-81ddfe39867e",
   "metadata": {},
   "outputs": [
    {
     "data": {
      "text/plain": [
       "array([[-0.0854443 , -0.07273219]])"
      ]
     },
     "execution_count": 82,
     "metadata": {},
     "output_type": "execute_result"
    }
   ],
   "source": [
    "ridge_classifier.coef_ # Веса признаков"
   ]
  },
  {
   "cell_type": "code",
   "execution_count": 83,
   "id": "f48cafbd-64a5-49cd-a3ab-c5a23de7b436",
   "metadata": {},
   "outputs": [
    {
     "data": {
      "text/plain": [
       "array([-0.31250723])"
      ]
     },
     "execution_count": 83,
     "metadata": {},
     "output_type": "execute_result"
    }
   ],
   "source": [
    "ridge_classifier.intercept_ #коеф перед свободным членов"
   ]
  },
  {
   "cell_type": "markdown",
   "id": "559c3b32-f155-4c19-9b9a-ffdd458db88c",
   "metadata": {},
   "source": [
    "### LogisticRegression"
   ]
  },
  {
   "cell_type": "code",
   "execution_count": 106,
   "id": "e4faead9-b612-483a-9201-b1e23506d0d4",
   "metadata": {},
   "outputs": [],
   "source": [
    "log_regressor = linear_model.LogisticRegression(random_state = 1)\n"
   ]
  },
  {
   "cell_type": "code",
   "execution_count": 107,
   "id": "cbad117a-b71e-41ac-a4c7-af7d374b1900",
   "metadata": {},
   "outputs": [
    {
     "data": {
      "text/plain": [
       "LogisticRegression(random_state=1)"
      ]
     },
     "execution_count": 107,
     "metadata": {},
     "output_type": "execute_result"
    }
   ],
   "source": [
    "log_regressor.fit(train_data, train_labels)\n"
   ]
  },
  {
   "cell_type": "code",
   "execution_count": 110,
   "id": "3a955b16-81e4-4723-a8a0-859a814e7916",
   "metadata": {},
   "outputs": [],
   "source": [
    "log_predictions = log_regressor.predict(test_data)\n",
    "log_proba_predictions = log_regressor.predict_proba(test_data)\n"
   ]
  },
  {
   "cell_type": "code",
   "execution_count": 111,
   "id": "8c7c6966-5f47-4d31-8723-ab0727f804d7",
   "metadata": {},
   "outputs": [
    {
     "name": "stdout",
     "output_type": "stream",
     "text": [
      "[0 0 0 1 0 0 0 0 0 1 0 1 0 1 1 1 0 0 0 1 0 0 0 1 1 1 1 0 0 1]\n",
      "[0 1 1 1 0 1 0 0 0 1 0 1 0 1 1 1 1 0 1 1 1 0 0 1 1 1 1 0 0 1]\n",
      "[[9.99254667e-01 7.45333217e-04]\n",
      " [4.08279523e-01 5.91720477e-01]\n",
      " [4.90541791e-01 5.09458209e-01]\n",
      " [3.78296027e-03 9.96217040e-01]\n",
      " [7.32221196e-01 2.67778804e-01]\n",
      " [2.44262899e-01 7.55737101e-01]\n",
      " [9.93761113e-01 6.23888724e-03]\n",
      " [9.78405579e-01 2.15944205e-02]\n",
      " [9.55344987e-01 4.46550128e-02]\n",
      " [1.68318566e-01 8.31681434e-01]\n",
      " [9.20548027e-01 7.94519726e-02]\n",
      " [8.49635842e-03 9.91503642e-01]\n",
      " [8.42172474e-01 1.57827526e-01]\n",
      " [4.78103481e-02 9.52189652e-01]\n",
      " [4.16878377e-03 9.95831216e-01]\n",
      " [7.76668489e-04 9.99223332e-01]\n",
      " [2.05937909e-01 7.94062091e-01]\n",
      " [9.31195721e-01 6.88042793e-02]\n",
      " [2.41180236e-01 7.58819764e-01]\n",
      " [8.27655095e-04 9.99172345e-01]\n",
      " [8.91142562e-02 9.10885744e-01]\n",
      " [9.95944524e-01 4.05547579e-03]\n",
      " [9.84077857e-01 1.59221428e-02]\n",
      " [3.02681109e-01 6.97318891e-01]\n",
      " [1.47440544e-03 9.98525595e-01]\n",
      " [7.78506108e-03 9.92214939e-01]\n",
      " [2.89544877e-01 7.10455123e-01]\n",
      " [8.84591004e-01 1.15408996e-01]\n",
      " [9.92724199e-01 7.27580141e-03]\n",
      " [3.34985738e-03 9.96650143e-01]]\n"
     ]
    }
   ],
   "source": [
    "print(test_labels)\n",
    "print(log_predictions)\n",
    "print(log_proba_predictions)"
   ]
  },
  {
   "cell_type": "code",
   "execution_count": 112,
   "id": "283f9042-c17f-4531-a243-0daf370d2403",
   "metadata": {},
   "outputs": [
    {
     "name": "stdout",
     "output_type": "stream",
     "text": [
      "0.8\n",
      "0.8666666666666667\n"
     ]
    }
   ],
   "source": [
    "print(metrics.accuracy_score(test_labels, log_predictions))\n",
    "print(metrics.accuracy_score(test_labels, ridge_predictions))"
   ]
  },
  {
   "cell_type": "markdown",
   "id": "141aa242-b705-456e-93c0-7b831cc48e26",
   "metadata": {},
   "source": [
    "### Оценка качества по кросс валидации"
   ]
  },
  {
   "cell_type": "code",
   "execution_count": 113,
   "id": "7624f0ae-4fda-4f51-8604-a6277acebff4",
   "metadata": {},
   "outputs": [],
   "source": [
    "ridge_scoring = model_selection.cross_val_score(ridge_classifier, blobs[0], blobs[1], scoring = 'accuracy', cv = 10)"
   ]
  },
  {
   "cell_type": "code",
   "execution_count": 114,
   "id": "8b012954-f715-4aa8-ace4-4ae6b40a0a93",
   "metadata": {},
   "outputs": [],
   "source": [
    "log_scoring = model_selection.cross_val_score(log_regressor, blobs[0], blobs[1], scoring = 'accuracy', cv = 10)"
   ]
  },
  {
   "cell_type": "code",
   "execution_count": 115,
   "id": "5b4cbcc7-8eb3-42fa-bd8f-8cc7f7500109",
   "metadata": {},
   "outputs": [
    {
     "data": {
      "text/plain": [
       "array([0.8, 0.9, 0.9, 0.9, 1. , 1. , 0.7, 0.9, 0.9, 0.8])"
      ]
     },
     "execution_count": 115,
     "metadata": {},
     "output_type": "execute_result"
    }
   ],
   "source": [
    "ridge_scoring"
   ]
  },
  {
   "cell_type": "code",
   "execution_count": 116,
   "id": "31cfd0c9-cafe-4946-ba85-a6713e494cde",
   "metadata": {},
   "outputs": [
    {
     "data": {
      "text/plain": [
       "array([0.8, 0.9, 0.9, 0.9, 1. , 1. , 0.7, 0.9, 0.9, 0.8])"
      ]
     },
     "execution_count": 116,
     "metadata": {},
     "output_type": "execute_result"
    }
   ],
   "source": [
    "log_scoring"
   ]
  },
  {
   "cell_type": "code",
   "execution_count": 117,
   "id": "f4a190fe-7558-4bc9-872f-efe1a534f8f3",
   "metadata": {},
   "outputs": [
    {
     "name": "stdout",
     "output_type": "stream",
     "text": [
      "Ridge mean 0.8800000000000001 max 1.0 min 0.7 std 0.08717797887081348\n"
     ]
    }
   ],
   "source": [
    "print(\"Ridge mean\" , ridge_scoring.mean(), \"max\", ridge_scoring.max(),\"min\", ridge_scoring.min(),\"std\", ridge_scoring.std())"
   ]
  },
  {
   "cell_type": "code",
   "execution_count": 118,
   "id": "37a5c277-fc76-4f63-bb49-d354d44ac84a",
   "metadata": {},
   "outputs": [
    {
     "name": "stdout",
     "output_type": "stream",
     "text": [
      "Log mean 0.8800000000000001 max 1.0 min 0.7 std 0.08717797887081348\n"
     ]
    }
   ],
   "source": [
    "print(\"Log mean\" , log_scoring.mean(), \"max\", log_scoring.max(),\"min\", log_scoring.min(),\"std\", log_scoring.std())"
   ]
  },
  {
   "cell_type": "code",
   "execution_count": null,
   "id": "cdbd9b39-438c-4e6e-9e29-41b9709e718b",
   "metadata": {},
   "outputs": [],
   "source": []
  },
  {
   "cell_type": "code",
   "execution_count": 121,
   "id": "0cfa7124-38a7-4a0a-b63d-e37728a2803b",
   "metadata": {},
   "outputs": [],
   "source": [
    "scorer = metrics.make_scorer(metrics.accuracy_score)\n",
    "cv_strategy = model_selection.StratifiedShuffleSplit(n_splits=20, test_size = 0.3, random_state = 2)\n",
    "cv_strategy.get_n_splits(blobs[1])\n",
    "ridge_scoring = model_selection.cross_val_score(ridge_classifier, blobs[0], blobs[1], scoring = scorer, cv = cv_strategy)\n",
    "log_scoring = model_selection.cross_val_score(log_regressor, blobs[0], blobs[1], scoring = scorer, cv = cv_strategy)"
   ]
  },
  {
   "cell_type": "code",
   "execution_count": 122,
   "id": "3f8354fd-41d9-4f4a-abbb-9f5e75a3c757",
   "metadata": {},
   "outputs": [
    {
     "name": "stdout",
     "output_type": "stream",
     "text": [
      "Ridge mean 0.8700000000000001 max 1.0 min 0.7666666666666667 std 0.059535236998305825\n",
      "Log mean 0.8700000000000001 max 1.0 min 0.7666666666666667 std 0.06137317546507322\n"
     ]
    }
   ],
   "source": [
    "print(\"Ridge mean\" , ridge_scoring.mean(), \"max\", ridge_scoring.max(),\"min\", ridge_scoring.min(),\"std\", ridge_scoring.std())\n",
    "print(\"Log mean\" , log_scoring.mean(), \"max\", log_scoring.max(),\"min\", log_scoring.min(),\"std\", log_scoring.std())"
   ]
  },
  {
   "cell_type": "markdown",
   "id": "68e2ea01-d7a3-44fd-8a9e-61bf32770686",
   "metadata": {},
   "source": [
    "# Регрессия\n",
    "\n",
    "coef - мы просим чтобы нам вернули уравнение тоже (линейное уравнение)"
   ]
  },
  {
   "cell_type": "code",
   "execution_count": 123,
   "id": "292ba9de-d4c5-438d-84a2-5249f7c924d7",
   "metadata": {},
   "outputs": [],
   "source": [
    "data, target, coef = datasets.make_regression(n_features=2, n_informative=1, n_targets=1,\n",
    "                                              noise = 5, coef = True, random_state = 2)"
   ]
  },
  {
   "cell_type": "code",
   "execution_count": 124,
   "id": "32efecdd-0dd7-4952-97fb-62dd55d36fe2",
   "metadata": {},
   "outputs": [
    {
     "data": {
      "text/plain": [
       "<matplotlib.collections.PathCollection at 0x7fb15e767ac0>"
      ]
     },
     "execution_count": 124,
     "metadata": {},
     "output_type": "execute_result"
    },
    {
     "data": {
      "image/png": "[encoded data removed]",
      "text/plain": [
       "<Figure size 576x360 with 1 Axes>"
      ]
     },
     "metadata": {
      "needs_background": "light"
     },
     "output_type": "display_data"
    }
   ],
   "source": [
    "pylab.scatter(data[:,0], target, color = 'r')\n",
    "pylab.scatter(data[:,1], target, color = 'b')"
   ]
  },
  {
   "cell_type": "code",
   "execution_count": 125,
   "id": "e95f885d-059a-46bf-ba6d-58ca9e726bb4",
   "metadata": {},
   "outputs": [],
   "source": [
    "train_data, test_data, train_labels, test_labels = model_selection.train_test_split(data, target,  \n",
    "                                                                                     test_size = 0.3)"
   ]
  },
  {
   "cell_type": "markdown",
   "id": "16a6334d-4785-433a-9eac-6be0bcdb59be",
   "metadata": {},
   "source": [
    "### Linear regression"
   ]
  },
  {
   "cell_type": "code",
   "execution_count": 127,
   "id": "0940128b-1c1d-4691-b6bd-eeea09c02253",
   "metadata": {},
   "outputs": [],
   "source": [
    "linear_regressor = linear_model.LinearRegression()\n",
    "linear_regressor.fit(train_data, train_labels)\n",
    "predictions = linear_regressor.predict(test_data)"
   ]
  },
  {
   "cell_type": "code",
   "execution_count": 128,
   "id": "02caa8e5-c4d0-45ed-8549-b2bec4c1d974",
   "metadata": {},
   "outputs": [
    {
     "name": "stdout",
     "output_type": "stream",
     "text": [
      "[-16.30914909 -14.97110322 -37.31870104 -11.18242389 126.64909941\n",
      " -16.79027112 -24.77820218  12.74038341 -26.87743177  13.31981235\n",
      "  21.20540389 -45.27502383  49.41686419  11.06961035 -91.477377\n",
      "  12.47089016  13.02656201 -17.27897399   1.72644759  34.35183007\n",
      " -36.44717565  24.47584129 -32.71074998  45.05465366   0.34799656\n",
      " -13.99339669 -15.01435792 -84.32102748 -27.02798161 -19.36956003]\n",
      "[-12.48969432 -12.95446015 -35.57202904 -13.22366768 126.6386551\n",
      " -15.07821396 -27.06257529   7.44326192 -28.48725907  14.38221386\n",
      "  16.53432327 -48.91279306  56.2164722   25.94648183 -94.74000157\n",
      "  19.93177058  18.78023745 -13.68683948  -0.40358981  39.39381515\n",
      " -41.66761805  23.15272761 -44.28809812  42.69024365  -1.98230614\n",
      " -15.27412386 -10.45401341 -82.85350915 -25.45915111 -32.59567101]\n"
     ]
    }
   ],
   "source": [
    "print(test_labels)\n",
    "print(predictions)"
   ]
  },
  {
   "cell_type": "code",
   "execution_count": 129,
   "id": "043114e3-ce25-461e-b4c8-646b6a48f4d0",
   "metadata": {},
   "outputs": [
    {
     "data": {
      "text/plain": [
       "4.124868455005314"
      ]
     },
     "execution_count": 129,
     "metadata": {},
     "output_type": "execute_result"
    }
   ],
   "source": [
    "metrics.mean_absolute_error(test_labels, predictions)"
   ]
  },
  {
   "cell_type": "code",
   "execution_count": 138,
   "id": "d36f0ad0-6db3-4dbb-950f-8182b2053e08",
   "metadata": {},
   "outputs": [
    {
     "data": {
      "text/plain": [
       "<matplotlib.collections.PathCollection at 0x7fb15c059b80>"
      ]
     },
     "execution_count": 138,
     "metadata": {},
     "output_type": "execute_result"
    },
    {
     "data": {
      "image/png": "[encoded data removed]",
      "text/plain": [
       "<Figure size 576x360 with 1 Axes>"
      ]
     },
     "metadata": {
      "needs_background": "light"
     },
     "output_type": "display_data"
    }
   ],
   "source": [
    "pylab.scatter(test_data[:,0], test_labels, color = 'r')\n",
    "pylab.scatter(test_data[:,0], predictions, color = 'b')"
   ]
  },
  {
   "cell_type": "code",
   "execution_count": 130,
   "id": "78f89a29-71c2-4466-9183-ba8449f8e07b",
   "metadata": {},
   "outputs": [
    {
     "name": "stdout",
     "output_type": "stream",
     "text": [
      "mean: -4.070071498779696, std: 1.07371044928902\n"
     ]
    }
   ],
   "source": [
    "linear_scoring = model_selection.cross_val_score(linear_regressor, data, target, scoring = 'neg_mean_absolute_error',cv=10)\n",
    "print('mean: {}, std: {}'.format(linear_scoring.mean(), linear_scoring.std()))"
   ]
  },
  {
   "cell_type": "code",
   "execution_count": 131,
   "id": "faca6d8f-6640-47cf-bb90-ca4f61eedf04",
   "metadata": {},
   "outputs": [
    {
     "name": "stdout",
     "output_type": "stream",
     "text": [
      "mean: 4.070071498779696, std: 1.07371044928902\n"
     ]
    }
   ],
   "source": [
    "scorer = metrics.make_scorer(metrics.mean_absolute_error, greater_is_better = True)\n",
    "linear_scoring = model_selection.cross_val_score(linear_regressor, data, target, scoring=scorer, \n",
    "                                                  cv = 10)\n",
    "print('mean: {}, std: {}'.format(linear_scoring.mean(), linear_scoring.std()))"
   ]
  },
  {
   "cell_type": "code",
   "execution_count": 132,
   "id": "721dbf73-d9a0-4336-81d6-ee6a4eb1edda",
   "metadata": {},
   "outputs": [
    {
     "data": {
      "text/plain": [
       "array([38.07925837,  0.        ])"
      ]
     },
     "execution_count": 132,
     "metadata": {},
     "output_type": "execute_result"
    }
   ],
   "source": [
    "coef"
   ]
  },
  {
   "cell_type": "code",
   "execution_count": 133,
   "id": "8a491986-dc58-4c25-9c3e-3eb4a3ae2e23",
   "metadata": {},
   "outputs": [
    {
     "data": {
      "text/plain": [
       "array([38.70732338,  0.21576432])"
      ]
     },
     "execution_count": 133,
     "metadata": {},
     "output_type": "execute_result"
    }
   ],
   "source": [
    "linear_regressor.coef_"
   ]
  },
  {
   "cell_type": "code",
   "execution_count": 134,
   "id": "965edd07-0285-426c-9240-74fcc870d038",
   "metadata": {},
   "outputs": [
    {
     "data": {
      "text/plain": [
       "-0.5209879835029174"
      ]
     },
     "execution_count": 134,
     "metadata": {},
     "output_type": "execute_result"
    }
   ],
   "source": [
    "linear_regressor.intercept_ #свободный член"
   ]
  },
  {
   "cell_type": "code",
   "execution_count": 135,
   "id": "68e122b4-66f2-4b6d-8d63-2943a5d30475",
   "metadata": {},
   "outputs": [
    {
     "name": "stdout",
     "output_type": "stream",
     "text": [
      "y = 38.08*x1 + 0.00*x2\n"
     ]
    }
   ],
   "source": [
    "print(\"y = {:.2f}*x1 + {:.2f}*x2\".format(coef[0], coef[1]))"
   ]
  },
  {
   "cell_type": "code",
   "execution_count": 136,
   "id": "b53e6813-e42a-4b14-be66-d5cfb4e4176f",
   "metadata": {},
   "outputs": [
    {
     "name": "stdout",
     "output_type": "stream",
     "text": [
      "y = 38.71*x1 + 0.22*x2 + -0.52\n"
     ]
    }
   ],
   "source": [
    "print(\"y = {:.2f}*x1 + {:.2f}*x2 + {:.2f}\".format(linear_regressor.coef_[0], \n",
    "                                                  linear_regressor.coef_[1], \n",
    "                                                  linear_regressor.intercept_))"
   ]
  },
  {
   "cell_type": "markdown",
   "id": "a017d453-e998-4ac0-9aed-4696cbd1a2b9",
   "metadata": {},
   "source": [
    "### Lasso"
   ]
  },
  {
   "cell_type": "code",
   "execution_count": 139,
   "id": "d185090e-814a-4888-9f7f-eec7b748e3f0",
   "metadata": {},
   "outputs": [],
   "source": [
    "lasso_regressor = linear_model.Lasso(random_state = 3)\n",
    "lasso_regressor.fit(train_data, train_labels)\n",
    "lasso_predictions = lasso_regressor.predict(test_data)"
   ]
  },
  {
   "cell_type": "code",
   "execution_count": 140,
   "id": "9c454bbb-0260-4339-b111-ff251e2f8ec4",
   "metadata": {},
   "outputs": [
    {
     "name": "stdout",
     "output_type": "stream",
     "text": [
      "mean: 4.1544782466663985, std: 1.0170354384993352\n"
     ]
    }
   ],
   "source": [
    "lasso_scoring = model_selection.cross_val_score(lasso_regressor, data, target, scoring = scorer, cv = 10)\n",
    "print('mean: {}, std: {}'.format(lasso_scoring.mean(), lasso_scoring.std()))"
   ]
  },
  {
   "cell_type": "code",
   "execution_count": 141,
   "id": "22fac55c-31cf-4efb-aa08-a6836d097074",
   "metadata": {},
   "outputs": [
    {
     "name": "stdout",
     "output_type": "stream",
     "text": [
      "y = 38.08*x1 + 0.00*x2\n",
      "y = 37.94*x1 + 0.00*x2\n"
     ]
    }
   ],
   "source": [
    "print(\"y = {:.2f}*x1 + {:.2f}*x2\".format(coef[0], coef[1]))\n",
    "print(\"y = {:.2f}*x1 + {:.2f}*x2\".format(lasso_regressor.coef_[0], lasso_regressor.coef_[1]))"
   ]
  },
  {
   "cell_type": "markdown",
   "id": "da8ec6f5-7c89-45a9-930a-b2473387a5ee",
   "metadata": {},
   "source": [
    "лассо регуляризация смогла убрать избыточный признак! это очень круто - отличие от обычной линейной регрессии"
   ]
  },
  {
   "cell_type": "code",
   "execution_count": null,
   "id": "05beea86-0311-43fb-8fca-b0e5bc00a652",
   "metadata": {},
   "outputs": [],
   "source": []
  }
 ],
 "metadata": {
  "kernelspec": {
   "display_name": "Python 3 (ipykernel)",
   "language": "python",
   "name": "python3"
  },
  "language_info": {
   "codemirror_mode": {
    "name": "ipython",
    "version": 3
   },
   "file_extension": ".py",
   "mimetype": "text/x-python",
   "name": "python",
   "nbconvert_exporter": "python",
   "pygments_lexer": "ipython3",
   "version": "3.8.10"
  }
 },
 "nbformat": 4,
 "nbformat_minor": 5
}
