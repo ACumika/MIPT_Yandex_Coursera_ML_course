{
 "cells": [
  {
   "cell_type": "code",
   "execution_count": 3,
   "id": "e601ea71-48ef-4c3b-9d44-be79b3bd98d6",
   "metadata": {},
   "outputs": [],
   "source": [
    "from sklearn import model_selection, datasets\n",
    "import numpy as np"
   ]
  },
  {
   "cell_type": "code",
   "execution_count": 4,
   "id": "63ce40ba-8f5b-4f48-aedf-4d7a6941e660",
   "metadata": {},
   "outputs": [],
   "source": [
    "iris = datasets.load_iris()"
   ]
  },
  {
   "cell_type": "code",
   "execution_count": 6,
   "id": "bc4cd11e-fce5-4047-a65b-5d4adfe701ac",
   "metadata": {},
   "outputs": [],
   "source": [
    "train_data, test_data, train_labels, test_labels = model_selection.train_test_split(iris.data, iris.target, test_size = 0.3)"
   ]
  },
  {
   "cell_type": "code",
   "execution_count": 7,
   "id": "6a8027d4-d926-43d0-a085-fa50c9fd3995",
   "metadata": {},
   "outputs": [
    {
     "data": {
      "text/plain": [
       "0.3"
      ]
     },
     "execution_count": 7,
     "metadata": {},
     "output_type": "execute_result"
    }
   ],
   "source": [
    "len(test_labels)/len(iris.data)"
   ]
  },
  {
   "cell_type": "code",
   "execution_count": 10,
   "id": "7c8dab37-14c9-4ca8-a4b0-5197e7d80de9",
   "metadata": {},
   "outputs": [
    {
     "name": "stdout",
     "output_type": "stream",
     "text": [
      "Размер обучающей выборки: 105 объектов \n",
      "Размер тестовой выборки: 45 объектов\n"
     ]
    }
   ],
   "source": [
    "print('Размер обучающей выборки: {} объектов \\nРазмер тестовой выборки: {} объектов'.format(len(train_data),\n",
    "                                                                                            len(test_data)))"
   ]
  },
  {
   "cell_type": "code",
   "execution_count": 8,
   "id": "de15da76-4035-4927-ac87-db1dea3492e7",
   "metadata": {},
   "outputs": [
    {
     "name": "stdout",
     "output_type": "stream",
     "text": [
      "Обучающая выборка:\n",
      " [[4.4 3.  1.3 0.2]\n",
      " [4.4 2.9 1.4 0.2]\n",
      " [5.8 2.6 4.  1.2]\n",
      " [5.2 3.4 1.4 0.2]\n",
      " [4.8 3.  1.4 0.3]]\n",
      "\n",
      "\n",
      "Тестовая выборка:\n",
      " [[6.3 2.5 4.9 1.5]\n",
      " [5.4 3.  4.5 1.5]\n",
      " [5.9 3.2 4.8 1.8]\n",
      " [4.9 2.4 3.3 1. ]\n",
      " [5.5 3.5 1.3 0.2]]\n"
     ]
    }
   ],
   "source": [
    "print('Обучающая выборка:\\n', train_data[:5])\n",
    "print('\\n')\n",
    "print('Тестовая выборка:\\n', test_data[:5])"
   ]
  },
  {
   "cell_type": "code",
   "execution_count": 9,
   "id": "11a539b2-0e8b-4bd6-b897-6f0f43ee6af4",
   "metadata": {},
   "outputs": [
    {
     "name": "stdout",
     "output_type": "stream",
     "text": [
      "Метки классов на обучающей выборке:\n",
      " [0 0 1 0 0 0 2 2 2 1 1 0 2 1 2 1 1 0 1 2 0 2 0 1 0 1 2 0 2 0 1 0 1 1 2 0 2\n",
      " 0 0 0 0 2 1 2 2 1 0 2 2 1 2 1 0 0 1 0 1 0 0 0 1 2 0 2 0 2 0 2 0 1 2 1 2 1\n",
      " 1 0 2 1 2 0 1 1 1 0 1 1 2 0 2 0 1 2 1 0 1 2 0 2 1 2 2 0 0 1 2]\n",
      "\n",
      "\n",
      "Метки классов на тестовой выборке:\n",
      " [1 1 1 1 0 2 2 1 2 1 2 1 1 2 0 2 1 0 2 0 1 1 1 1 0 1 2 0 2 0 2 0 0 2 0 2 1\n",
      " 2 0 1 2 0 2 2 2]\n"
     ]
    }
   ],
   "source": [
    "print('Метки классов на обучающей выборке:\\n', train_labels)\n",
    "print('\\n')\n",
    "print('Метки классов на тестовой выборке:\\n', test_labels)"
   ]
  },
  {
   "cell_type": "markdown",
   "id": "6316edd1-b9f6-476f-b4d2-72bec497355d",
   "metadata": {},
   "source": [
    "# Стратегии кросс-валидации\n",
    "### KFold\n",
    "**shuffle** - перемешать когда датасет отсортирован <br>\n",
    "**random_state** - указываем чтобы всегда одинакого перемешивалось и был воспроизводимый результат"
   ]
  },
  {
   "cell_type": "code",
   "execution_count": 14,
   "id": "341159f3-e6bd-47e0-af23-72d9f3474f6a",
   "metadata": {},
   "outputs": [
    {
     "data": {
      "text/plain": [
       "range(0, 10)"
      ]
     },
     "execution_count": 14,
     "metadata": {},
     "output_type": "execute_result"
    }
   ],
   "source": [
    "X = range(0,10)\n",
    "X"
   ]
  },
  {
   "cell_type": "code",
   "execution_count": 15,
   "id": "04a686c9-fdd7-4cea-aa43-175496251de5",
   "metadata": {},
   "outputs": [
    {
     "name": "stdout",
     "output_type": "stream",
     "text": [
      "[ 9 10 11 12 13 14 15 16 17 18 19 20 21 22 23 24 25 26 27 28 29 30 31 32\n",
      " 33 34 35 36 37 38 39 40 41 42 43 44] [0 1 2 3 4 5 6 7 8]\n",
      "[ 0  1  2  3  4  5  6  7  8 18 19 20 21 22 23 24 25 26 27 28 29 30 31 32\n",
      " 33 34 35 36 37 38 39 40 41 42 43 44] [ 9 10 11 12 13 14 15 16 17]\n",
      "[ 0  1  2  3  4  5  6  7  8  9 10 11 12 13 14 15 16 17 27 28 29 30 31 32\n",
      " 33 34 35 36 37 38 39 40 41 42 43 44] [18 19 20 21 22 23 24 25 26]\n",
      "[ 0  1  2  3  4  5  6  7  8  9 10 11 12 13 14 15 16 17 18 19 20 21 22 23\n",
      " 24 25 26 36 37 38 39 40 41 42 43 44] [27 28 29 30 31 32 33 34 35]\n",
      "[ 0  1  2  3  4  5  6  7  8  9 10 11 12 13 14 15 16 17 18 19 20 21 22 23\n",
      " 24 25 26 27 28 29 30 31 32 33 34 35] [36 37 38 39 40 41 42 43 44]\n"
     ]
    }
   ],
   "source": [
    "kf = model_selection.KFold(n_splits = 5)\n",
    "for train_indices, test_indices in kf.split(test_data):\n",
    "    print(train_indices, test_indices)"
   ]
  },
  {
   "cell_type": "code",
   "execution_count": 16,
   "id": "0d5f38a2-fa44-4688-909c-db1ee5454b61",
   "metadata": {},
   "outputs": [
    {
     "name": "stdout",
     "output_type": "stream",
     "text": [
      "[ 0  1  2  3  4  5  6  7  8  9 10 14 15 16 17 18 19 20 22 24 27 28 30 31\n",
      " 32 33 35 36 37 38 39 40 41 42 43 44] [11 12 13 21 23 25 26 29 34]\n",
      "[ 0  1  2  3  4  5  7  9 10 11 12 13 14 15 16 17 18 19 21 23 25 26 27 29\n",
      " 30 31 32 34 35 37 38 39 41 42 43 44] [ 6  8 20 22 24 28 33 36 40]\n",
      "[ 1  2  3  6  7  8 10 11 12 13 14 15 16 17 18 19 20 21 22 23 24 25 26 27\n",
      " 28 29 31 32 33 34 35 36 37 39 40 43] [ 0  4  5  9 30 38 41 42 44]\n",
      "[ 0  1  2  3  4  5  6  8  9 11 12 13 14 18 19 20 21 22 23 24 25 26 28 29\n",
      " 30 32 33 34 35 36 38 40 41 42 43 44] [ 7 10 15 16 17 27 31 37 39]\n",
      "[ 0  4  5  6  7  8  9 10 11 12 13 15 16 17 20 21 22 23 24 25 26 27 28 29\n",
      " 30 31 33 34 36 37 38 39 40 41 42 44] [ 1  2  3 14 18 19 32 35 43]\n"
     ]
    }
   ],
   "source": [
    "kf = model_selection.KFold(n_splits = 5, shuffle = True)\n",
    "for train_indices, test_indices in kf.split(test_data):\n",
    "    print(train_indices, test_indices)"
   ]
  },
  {
   "cell_type": "code",
   "execution_count": 24,
   "id": "4eb2912f-8d29-46f9-8aa4-7e34342a7d4a",
   "metadata": {},
   "outputs": [
    {
     "name": "stdout",
     "output_type": "stream",
     "text": [
      "[0 1 3 4 5 6 7 9] [2 8]\n",
      "[0 1 2 3 5 6 7 8] [4 9]\n",
      "[0 2 3 4 5 7 8 9] [1 6]\n",
      "[0 1 2 4 5 6 8 9] [3 7]\n",
      "[1 2 3 4 6 7 8 9] [0 5]\n"
     ]
    }
   ],
   "source": [
    "kf = model_selection.KFold(n_splits = 5, shuffle=True, random_state=0)\n",
    "for train_indices, test_indices in kf.split(X):\n",
    "    print(train_indices, test_indices)"
   ]
  },
  {
   "cell_type": "markdown",
   "id": "aa3ea14f-b7fb-4ee4-8fd7-31f88ad651bd",
   "metadata": {},
   "source": [
    "### Stratified fold\n",
    "\n",
    "сохроняет сооношение классов в подвыборках!) очень удобно"
   ]
  },
  {
   "cell_type": "code",
   "execution_count": 23,
   "id": "1848c7e3-39ea-4dcd-a40f-eeb1bce4a0b3",
   "metadata": {},
   "outputs": [
    {
     "name": "stdout",
     "output_type": "stream",
     "text": [
      "[0 0 0 0 0 1 1 1 1 1]\n",
      "[0 2 3 4 6 7 8 9] [1 5]\n",
      "[0 1 3 4 5 6 8 9] [2 7]\n",
      "[1 2 3 4 5 7 8 9] [0 6]\n",
      "[0 1 2 4 5 6 7 8] [3 9]\n",
      "[0 1 2 3 5 6 7 9] [4 8]\n"
     ]
    }
   ],
   "source": [
    "y = np.array([0] * 5 + [1] *5)\n",
    "print(y)\n",
    "skf = model_selection.StratifiedKFold(n_splits=5, shuffle=True, random_state=0)\n",
    "for train_indices, test_indices in skf.split(X, y):\n",
    "    print(train_indices, test_indices)"
   ]
  },
  {
   "cell_type": "markdown",
   "id": "28aa57b8-b31a-4e80-a3b1-f92664cb0925",
   "metadata": {},
   "source": [
    "### shuffle split\n",
    "\n",
    "следующее разбиение не зависи от предыдущей. можно много сетов получить сразу"
   ]
  },
  {
   "cell_type": "code",
   "execution_count": 26,
   "id": "e9ce8492-dcfd-486a-abf3-974a83e96a98",
   "metadata": {},
   "outputs": [
    {
     "name": "stdout",
     "output_type": "stream",
     "text": [
      "[4 5 2 1 9 7 6 8] [3 0]\n",
      "[0 8 5 3 1 4 7 9] [2 6]\n",
      "[2 5 3 7 1 9 8 0] [6 4]\n",
      "[6 5 2 3 1 9 4 0] [7 8]\n",
      "[7 8 9 1 4 6 3 2] [0 5]\n",
      "[2 4 1 9 8 3 0 5] [6 7]\n",
      "[7 1 0 9 8 5 3 6] [2 4]\n",
      "[9 6 1 2 7 3 5 0] [8 4]\n",
      "[1 7 9 3 0 2 4 8] [5 6]\n",
      "[0 4 1 2 8 3 6 7] [5 9]\n"
     ]
    }
   ],
   "source": [
    "ss = model_selection.ShuffleSplit(n_splits = 10, test_size = 0.2)\n",
    "\n",
    "for train_indices, test_indices in ss.split(X):\n",
    "    print(train_indices, test_indices)"
   ]
  },
  {
   "cell_type": "markdown",
   "id": "1cc3f0e0-f7ea-49b1-b332-2e8d22788222",
   "metadata": {},
   "source": [
    "### Stratified shuffle split\n",
    "\n",
    "так же не зависит от предыдущей но делает сбалансированую выборку по классам\n"
   ]
  },
  {
   "cell_type": "code",
   "execution_count": null,
   "id": "96c2bd26-b934-4541-8cf2-b03f78d99e87",
   "metadata": {},
   "outputs": [],
   "source": [
    "target = np.array([0] * 5 + [1] * 5)\n",
    "print(target)\n",
    "\n",
    "sss = model_selection.StratifiedShuffleSplit(n_splits = 4, test_size = 0.2)\n",
    "for train_indices, test_indices in sss.split(X, target):\n",
    "    print(train_indices, test_indices)"
   ]
  },
  {
   "cell_type": "markdown",
   "id": "60e7174e-9cd3-4733-ae17-e3d9106dcd25",
   "metadata": {},
   "source": [
    "### Leave one out\n",
    "каждый обьект 1 раз оставояем в тесте - в тесте 1 обьект только.\n",
    "удобно когда выборка не большая"
   ]
  },
  {
   "cell_type": "code",
   "execution_count": 27,
   "id": "3ea381f5-195c-4700-a0e1-5c630a103ab1",
   "metadata": {},
   "outputs": [
    {
     "name": "stdout",
     "output_type": "stream",
     "text": [
      "[1 2 3 4 5 6 7 8 9] [0]\n",
      "[0 2 3 4 5 6 7 8 9] [1]\n",
      "[0 1 3 4 5 6 7 8 9] [2]\n",
      "[0 1 2 4 5 6 7 8 9] [3]\n",
      "[0 1 2 3 5 6 7 8 9] [4]\n",
      "[0 1 2 3 4 6 7 8 9] [5]\n",
      "[0 1 2 3 4 5 7 8 9] [6]\n",
      "[0 1 2 3 4 5 6 8 9] [7]\n",
      "[0 1 2 3 4 5 6 7 9] [8]\n",
      "[0 1 2 3 4 5 6 7 8] [9]\n"
     ]
    }
   ],
   "source": [
    "loo = model_selection.LeaveOneOut()\n",
    "\n",
    "for train_indices, test_index in loo.split(X):\n",
    "    print(train_indices, test_index)"
   ]
  },
  {
   "cell_type": "code",
   "execution_count": null,
   "id": "4da4d5d6-362b-40b1-a755-d27f0033b550",
   "metadata": {},
   "outputs": [],
   "source": []
  }
 ],
 "metadata": {
  "kernelspec": {
   "display_name": "Python 3 (ipykernel)",
   "language": "python",
   "name": "python3"
  },
  "language_info": {
   "codemirror_mode": {
    "name": "ipython",
    "version": 3
   },
   "file_extension": ".py",
   "mimetype": "text/x-python",
   "name": "python",
   "nbconvert_exporter": "python",
   "pygments_lexer": "ipython3",
   "version": "3.8.10"
  }
 },
 "nbformat": 4,
 "nbformat_minor": 5
}
